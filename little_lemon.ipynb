{
 "cells": [
  {
   "cell_type": "markdown",
   "id": "bb1277db-d190-4c4e-932b-a5e655911ac8",
   "metadata": {},
   "source": [
    "Install MySQL Connector"
   ]
  },
  {
   "cell_type": "code",
   "execution_count": 1,
   "id": "ec8078bd-8123-448c-8bea-76d43d65e536",
   "metadata": {
    "collapsed": true,
    "jupyter": {
     "outputs_hidden": true
    },
    "scrolled": true
   },
   "outputs": [
    {
     "name": "stdout",
     "output_type": "stream",
     "text": [
      "Collecting mysql-connector-python\n",
      "  Obtaining dependency information for mysql-connector-python from https://files.pythonhosted.org/packages/99/72/9bcbc7d6fe122fcbb4f948fd79c18387e84c4df8762aa55eb230acf1193b/mysql_connector_python-8.1.0-py2.py3-none-any.whl.metadata\n",
      "  Downloading mysql_connector_python-8.1.0-py2.py3-none-any.whl.metadata (2.0 kB)\n",
      "Collecting protobuf<=4.21.12,>=4.21.1 (from mysql-connector-python)\n",
      "  Downloading protobuf-4.21.12-cp310-abi3-win_amd64.whl (527 kB)\n",
      "     ---------------------------------------- 0.0/527.0 kB ? eta -:--:--\n",
      "      --------------------------------------- 10.2/527.0 kB ? eta -:--:--\n",
      "      --------------------------------------- 10.2/527.0 kB ? eta -:--:--\n",
      "     -- ---------------------------------- 30.7/527.0 kB 220.2 kB/s eta 0:00:03\n",
      "     -- ---------------------------------- 41.0/527.0 kB 219.4 kB/s eta 0:00:03\n",
      "     ----- ------------------------------- 71.7/527.0 kB 328.6 kB/s eta 0:00:02\n",
      "     ---------- ------------------------- 153.6/527.0 kB 612.6 kB/s eta 0:00:01\n",
      "     ----------------- ------------------ 256.0/527.0 kB 874.6 kB/s eta 0:00:01\n",
      "     --------------------- -------------- 317.4/527.0 kB 936.6 kB/s eta 0:00:01\n",
      "     -------------------------------------  522.2/527.0 kB 1.4 MB/s eta 0:00:01\n",
      "     -------------------------------------- 527.0/527.0 kB 1.3 MB/s eta 0:00:00\n",
      "Downloading mysql_connector_python-8.1.0-py2.py3-none-any.whl (581 kB)\n",
      "   ---------------------------------------- 0.0/581.1 kB ? eta -:--:--\n",
      "   -------------- ------------------------- 204.8/581.1 kB 6.3 MB/s eta 0:00:01\n",
      "   -------------------------- ------------- 389.1/581.1 kB 4.9 MB/s eta 0:00:01\n",
      "   ------------------------------------ --- 532.5/581.1 kB 4.2 MB/s eta 0:00:01\n",
      "   ---------------------------------------- 581.1/581.1 kB 3.3 MB/s eta 0:00:00\n",
      "Installing collected packages: protobuf, mysql-connector-python\n",
      "Successfully installed mysql-connector-python-8.1.0 protobuf-4.21.12\n"
     ]
    },
    {
     "name": "stderr",
     "output_type": "stream",
     "text": [
      "\n",
      "[notice] A new release of pip is available: 23.2.1 -> 23.3.1\n",
      "[notice] To update, run: python.exe -m pip install --upgrade pip\n"
     ]
    }
   ],
   "source": [
    "!pip install mysql-connector-python"
   ]
  },
  {
   "cell_type": "markdown",
   "id": "241de6f3-ef6f-4846-b783-117031e7b117",
   "metadata": {},
   "source": [
    "Connect to the database using a Python client"
   ]
  },
  {
   "cell_type": "code",
   "execution_count": 1,
   "id": "b14a9478-f934-4599-b415-be8db777f6dc",
   "metadata": {},
   "outputs": [],
   "source": [
    "import mysql.connector as connector\n",
    "connection=connector.connect(user=\"root\",password=\"\")\n",
    "cursor = connection.cursor()"
   ]
  },
  {
   "cell_type": "code",
   "execution_count": 2,
   "id": "361852c1-4243-4352-b38c-14d7ed6d0642",
   "metadata": {},
   "outputs": [
    {
     "name": "stdout",
     "output_type": "stream",
     "text": [
      "('global_super_store',)\n",
      "('information_schema',)\n",
      "('little_lemon',)\n",
      "('mysql',)\n",
      "('performance_schema',)\n",
      "('phpmyadmin',)\n",
      "('test',)\n"
     ]
    }
   ],
   "source": [
    "# Show list of available databases\n",
    "cursor.execute(\"show databases\")\n",
    "for db in cursor:\n",
    "    print(db)"
   ]
  },
  {
   "cell_type": "code",
   "execution_count": 3,
   "id": "7a83ff0b-461a-4ca9-91d3-c202609c5d50",
   "metadata": {},
   "outputs": [],
   "source": [
    "cursor.execute(\"use little_lemon\")"
   ]
  },
  {
   "cell_type": "code",
   "execution_count": 19,
   "id": "0270bfb5-5b39-416e-bb78-0ab7c4e8b72c",
   "metadata": {},
   "outputs": [
    {
     "name": "stdout",
     "output_type": "stream",
     "text": [
      "little_lemon\n"
     ]
    }
   ],
   "source": [
    "print(connection.database)"
   ]
  },
  {
   "cell_type": "code",
   "execution_count": 20,
   "id": "e615ea2b-5a84-4916-890a-dd984bf96e49",
   "metadata": {},
   "outputs": [
    {
     "name": "stdout",
     "output_type": "stream",
     "text": [
      "('bookings',)\n",
      "('employees',)\n",
      "('menuitems',)\n",
      "('menus',)\n",
      "('orders',)\n"
     ]
    }
   ],
   "source": [
    "# Show list of available tables in Little Lemon DB\n",
    "cursor.execute(\"show tables\")\n",
    "for table in cursor:\n",
    "    print(table)"
   ]
  },
  {
   "cell_type": "markdown",
   "id": "5cf39f99-90e2-40f5-a049-57b97195d775",
   "metadata": {},
   "source": [
    "Create GetMaxQuantity Procedure"
   ]
  },
  {
   "cell_type": "code",
   "execution_count": 21,
   "id": "39100cd5-4a0a-473a-910b-dba834e9e42f",
   "metadata": {},
   "outputs": [],
   "source": [
    "cursor.execute(\"DROP PROCEDURE IF EXISTS GetMaxQuantity;\")\n",
    "\n",
    "max_quantity_query=\"\"\"\n",
    "CREATE PROCEDURE GetMaxQuantity()\n",
    "\n",
    "BEGIN\n",
    "SELECT MAX(Quantity) as maxQuantity\n",
    "FROM Orders;\n",
    "END\n",
    "\n",
    "\"\"\"\n",
    "\n",
    "cursor.execute(max_quantity_query)"
   ]
  },
  {
   "cell_type": "markdown",
   "id": "16958eb6-04cc-4f50-a1e8-750286082634",
   "metadata": {},
   "source": [
    "Call GetMaxQuantity procedure and print the result"
   ]
  },
  {
   "cell_type": "code",
   "execution_count": 23,
   "id": "f4fc4ccc-1945-443a-9fae-4cc27a23e879",
   "metadata": {},
   "outputs": [
    {
     "name": "stdout",
     "output_type": "stream",
     "text": [
      "['maxQuantity']\n",
      "(2,)\n"
     ]
    }
   ],
   "source": [
    "cursor.callproc(\"GetMaxQuantity\")\n",
    "\n",
    "results = next(cursor.stored_results())\n",
    "dataset = results.fetchall()\n",
    "\n",
    "for column_id in cursor.stored_results():\n",
    "    columns = [column[0] for column in column_id.description]\n",
    "    \n",
    "print(columns)\n",
    "for data in dataset:\n",
    "    print(data)"
   ]
  },
  {
   "cell_type": "markdown",
   "id": "2ed2192d-c024-4489-b499-6f0327ccc1e1",
   "metadata": {},
   "source": [
    "Create ManageBooking procedure"
   ]
  },
  {
   "cell_type": "code",
   "execution_count": 33,
   "id": "83139bdd-d64f-42ab-b5e6-afeca6dd5ba3",
   "metadata": {},
   "outputs": [],
   "source": [
    "cursor.execute(\"DROP PROCEDURE IF EXISTS ManageBooking;\")\n",
    "\n",
    "manage_booking_query=\"\"\"\n",
    "CREATE PROCEDURE ManageBooking()\n",
    "\n",
    "BEGIN\n",
    "SELECT bookings.BookingID,\n",
    "CONVERT(bookings.BookingSlot, CHAR) as BookingSlot\n",
    "FROM Bookings\n",
    "ORDER BY bookings.BookingSlot;\n",
    "END\n",
    "\n",
    "\"\"\"\n",
    "\n",
    "cursor.execute(manage_booking_query)"
   ]
  },
  {
   "cell_type": "markdown",
   "id": "04304a97-9c28-46f3-914d-12ccb612c01e",
   "metadata": {},
   "source": [
    "Call ManageBooking procedure and print the result"
   ]
  },
  {
   "cell_type": "code",
   "execution_count": 34,
   "id": "80b1b2ca-28d9-42f1-a2f8-96083701f166",
   "metadata": {},
   "outputs": [
    {
     "name": "stdout",
     "output_type": "stream",
     "text": [
      "['BookingID', 'BookingSlot']\n",
      "(3, '15:00:00')\n",
      "(4, '17:30:00')\n",
      "(7, '18:00:00')\n",
      "(9, '18:00:00')\n",
      "(5, '18:30:00')\n",
      "(1, '19:00:00')\n",
      "(2, '19:00:00')\n",
      "(10, '19:00:00')\n",
      "(8, '19:00:00')\n",
      "(11, '19:30:00')\n",
      "(6, '20:00:00')\n"
     ]
    }
   ],
   "source": [
    "cursor.callproc(\"ManageBooking\")\n",
    "\n",
    "results = next(cursor.stored_results())\n",
    "dataset = results.fetchall()\n",
    "\n",
    "for column_id in cursor.stored_results():\n",
    "    columns = [column[0] for column in column_id.description]\n",
    "    \n",
    "print(columns)\n",
    "for data in dataset:\n",
    "    print(data)"
   ]
  },
  {
   "cell_type": "markdown",
   "id": "d53d8af1-17d9-4a16-b242-ff8d91ea33e9",
   "metadata": {},
   "source": [
    "Create UpdateBooking Procedure"
   ]
  },
  {
   "cell_type": "code",
   "execution_count": 53,
   "id": "028204d4-9b73-4a9b-8cab-0997dd8c75f9",
   "metadata": {},
   "outputs": [],
   "source": [
    "cursor.execute(\"DROP PROCEDURE IF EXISTS UpdateBooking;\")\n",
    "\n",
    "update_booking_query=\"\"\"\n",
    "CREATE PROCEDURE UpdateBooking(IN existing_id int, IN new_time time)\n",
    "\n",
    "BEGIN\n",
    "UPDATE Bookings \n",
    "SET bookings.BookingSlot = new_time\n",
    "WHERE BookingID = existing_id;\n",
    "\n",
    "SELECT \n",
    "    CONCAT('Booking ', existing_id, 'has been updated.');\n",
    "END\n",
    "\n",
    "\"\"\"\n",
    "\n",
    "cursor.execute(update_booking_query)"
   ]
  },
  {
   "cell_type": "code",
   "execution_count": 9,
   "id": "55543992-28db-4331-aff5-9d7bc80ea518",
   "metadata": {},
   "outputs": [
    {
     "data": {
      "text/plain": [
       "(3, '15:00:00')"
      ]
     },
     "execution_count": 9,
     "metadata": {},
     "output_type": "execute_result"
    }
   ],
   "source": [
    "cursor.callproc(\"UpdateBooking\",[3,'15:00:00'])\n",
    "#cursor.callproc(ProcedureName, Params)"
   ]
  },
  {
   "cell_type": "code",
   "execution_count": 31,
   "id": "e89b6d02-1803-4a68-81df-7b4ca45c5429",
   "metadata": {},
   "outputs": [
    {
     "name": "stdout",
     "output_type": "stream",
     "text": [
      "('BookingID', 'TableNo', 'BookingTime')\n",
      "(1, 12, '20:00:00')\n",
      "(2, 12, '19:00:00')\n",
      "(3, 19, '15:00:00')\n",
      "(4, 15, '17:30:00')\n",
      "(5, 5, '18:30:00')\n",
      "(6, 8, '20:00:00')\n",
      "(7, 8, '18:00:00')\n",
      "(8, 5, '19:00:00')\n",
      "(9, 8, '18:00:00')\n",
      "(10, 5, '19:00:00')\n",
      "(14, 1, '19:00:00')\n"
     ]
    }
   ],
   "source": [
    "cursor.execute(\"\"\"SELECT BookingID, TableNo, CONVERT(BookingSlot, CHAR) as BookingTime FROM Bookings;\"\"\")\n",
    "results=cursor.fetchall()\n",
    "columns=cursor.column_names\n",
    "print(columns)\n",
    "for result in results:\n",
    "    print(result)"
   ]
  },
  {
   "cell_type": "markdown",
   "id": "dd47af3b-446b-4059-8ae7-b77292738ec5",
   "metadata": {},
   "source": [
    "Create CancelBooking Procedure"
   ]
  },
  {
   "cell_type": "code",
   "execution_count": 32,
   "id": "67ddbdd9-b22a-4f3f-860f-c3bff7242c12",
   "metadata": {},
   "outputs": [],
   "source": [
    "cursor.execute(\"DROP PROCEDURE IF EXISTS CancelBooking;\")\n",
    "\n",
    "cancel_booking_query=\"\"\"\n",
    "CREATE PROCEDURE CancelBooking(IN booking_id int)\n",
    "\n",
    "BEGIN\n",
    "DECLARE isExist boolean;\n",
    "\n",
    "SELECT Count(1) \n",
    "INTO isExist\n",
    "FROM Orders \n",
    "WHERE BookingID = booking_id;\n",
    "\n",
    "IF isExist THEN\n",
    "    SELECT CONCAT('Cannot cancel Booking ', booking_id);\n",
    "ELSE\n",
    "    START TRANSACTION;\n",
    "    DELETE FROM Bookings\n",
    "    WHERE BookingID = booking_id; \n",
    "    COMMIT;\n",
    "    SELECT CONCAT('Booking ', booking_id, 'has been cancelled.');\n",
    "    \n",
    "END IF;\n",
    "\n",
    "END\n",
    "\n",
    "\"\"\"\n",
    "\n",
    "cursor.execute(cancel_booking_query)"
   ]
  },
  {
   "cell_type": "code",
   "execution_count": 28,
   "id": "5e446bd2-91b7-4e09-b7dd-76b0b87d7eb6",
   "metadata": {},
   "outputs": [
    {
     "data": {
      "text/plain": [
       "(13,)"
      ]
     },
     "execution_count": 28,
     "metadata": {},
     "output_type": "execute_result"
    }
   ],
   "source": [
    "cursor.callproc(\"CancelBooking\",[13])\n",
    "#cursor.callproc(ProcedureName, Params)"
   ]
  },
  {
   "cell_type": "markdown",
   "id": "98723b6e-53f7-4597-ab6d-49b27596d767",
   "metadata": {},
   "source": [
    "Create AddBooking Procedure"
   ]
  },
  {
   "cell_type": "code",
   "execution_count": 33,
   "id": "1377c154-a754-4f60-9e0e-d8c5d00b70a3",
   "metadata": {},
   "outputs": [],
   "source": [
    "cursor.execute(\"DROP PROCEDURE IF EXISTS AddBooking;\")\n",
    "\n",
    "add_booking_query=\"\"\"\n",
    "CREATE PROCEDURE AddBooking(IN table_no int, IN first_name varchar(45), IN last_name varchar(45), IN booking_slot time)\n",
    "\n",
    "BEGIN\n",
    "DECLARE isExist boolean;\n",
    "\n",
    "SELECT Count(1) \n",
    "INTO isExist\n",
    "FROM Bookings\n",
    "WHERE TableNo = table_no\n",
    "AND BookingSlot = booking_slot;\n",
    "\n",
    "IF isExist THEN\n",
    "    SELECT CONCAT('Table No ', table_no, ' has been reserved at ', booking_slot, '. Please book another table!');\n",
    "ELSE\n",
    "    START TRANSACTION;\n",
    "    INSERT INTO Bookings (TableNo, GuestFirstName, GuestLastName, BookingSlot)\n",
    "    VALUES(table_no, first_name, last_name, booking_slot);\n",
    "    COMMIT;\n",
    "    SELECT CONCAT('Succesfully booked table no ', table_no);\n",
    "END IF;\n",
    "\n",
    "END\n",
    "\n",
    "\"\"\"\n",
    "\n",
    "cursor.execute(add_booking_query)"
   ]
  },
  {
   "cell_type": "code",
   "execution_count": 30,
   "id": "f25453dc-40ba-485b-a2f8-8fa789d5d1fb",
   "metadata": {},
   "outputs": [
    {
     "data": {
      "text/plain": [
       "(1, 'Fajri', 'Widiadi', '19:00:00')"
      ]
     },
     "execution_count": 30,
     "metadata": {},
     "output_type": "execute_result"
    }
   ],
   "source": [
    "cursor.callproc(\"AddBooking\",[1, 'Fajri', 'Widiadi', '19:00:00'])\n",
    "#cursor.callproc(ProcedureName, Params)"
   ]
  },
  {
   "cell_type": "code",
   "execution_count": null,
   "id": "a116a17c-d046-48d6-9a58-fa9bd9a1b7eb",
   "metadata": {},
   "outputs": [],
   "source": []
  }
 ],
 "metadata": {
  "kernelspec": {
   "display_name": "Python 3 (ipykernel)",
   "language": "python",
   "name": "python3"
  },
  "language_info": {
   "codemirror_mode": {
    "name": "ipython",
    "version": 3
   },
   "file_extension": ".py",
   "mimetype": "text/x-python",
   "name": "python",
   "nbconvert_exporter": "python",
   "pygments_lexer": "ipython3",
   "version": "3.12.0"
  }
 },
 "nbformat": 4,
 "nbformat_minor": 5
}
